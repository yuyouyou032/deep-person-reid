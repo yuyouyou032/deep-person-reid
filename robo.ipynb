{
 "cells": [
  {
   "cell_type": "markdown",
   "id": "07198f92-9cc0-48f9-8599-ec23cd79d871",
   "metadata": {},
   "source": [
    "# Environment Config"
   ]
  },
  {
   "cell_type": "markdown",
   "id": "23e5a8b0-cde5-4817-b102-9df1fad13412",
   "metadata": {},
   "source": [
    "need to ensure that anaconda is installed. "
   ]
  },
  {
   "cell_type": "code",
   "execution_count": 29,
   "id": "3fccde4c-864c-457b-9b7c-0669b0c134d7",
   "metadata": {},
   "outputs": [],
   "source": [
    "import pandas as pd\n",
    "from PIL import Image\n",
    "import os\n",
    "from pathlib import Path\n",
    "import shutil\n",
    "from torchreid.utils import load_pretrained_weights"
   ]
  },
  {
   "cell_type": "code",
   "execution_count": null,
   "id": "8904c6bb-6ff9-4743-bc3d-02160903e003",
   "metadata": {},
   "outputs": [],
   "source": [
    "# # cd to your preferred directory and clone this repo\n",
    "# os.system('git clone https://github.com/KaiyangZhou/deep-person-reid.git')\n",
    "\n",
    "# # create environment\n",
    "# os.system('cd deep-person-reid/')\n",
    "# os.system('conda create --name torchreid python=3.8')\n",
    "# os.system('conda activate torchreid')\n",
    "\n",
    "# # install dependencies\n",
    "# # make sure `which python` and `which pip` point to the correct path\n",
    "# os.system('pip install -r requirements.txt')\n",
    "\n",
    "# # install torch and torchvision (select the proper cuda version to suit your machine)\n",
    "# os.system('conda install pytorch torchvision cudatoolkit=9.0 -c pytorch')\n",
    "\n",
    "# # install torchreid (don't need to re-build it if you modify the source code)\n",
    "# os.system('python setup.py develop')"
   ]
  },
  {
   "cell_type": "markdown",
   "id": "24df80cf-82f4-4a6d-aac9-001fd5db80f1",
   "metadata": {},
   "source": [
    "# Set up"
   ]
  },
  {
   "cell_type": "code",
   "execution_count": 1,
   "id": "e191ea6a-3336-498e-a174-688cf2d6e95e",
   "metadata": {},
   "outputs": [
    {
     "name": "stderr",
     "output_type": "stream",
     "text": [
      "/notebooks/deep-person-reid/torchreid/metrics/rank.py:11: UserWarning: Cython evaluation (very fast so highly recommended) is unavailable, now use python evaluation.\n",
      "  warnings.warn(\n"
     ]
    }
   ],
   "source": [
    "import torchreid\n",
    "from torchreid.data.datasets.image.robo import Robo\n",
    "torchreid.data.register_image_dataset('robo', Robo)"
   ]
  },
  {
   "cell_type": "code",
   "execution_count": 2,
   "id": "6e2f01ab-3668-49ab-a53d-7b358132b805",
   "metadata": {
    "tags": []
   },
   "outputs": [
    {
     "name": "stdout",
     "output_type": "stream",
     "text": [
      "Building train transforms ...\n",
      "+ resize to 256x128\n",
      "+ to torch tensor of range [0, 1]\n",
      "+ normalization (mean=[0.485, 0.456, 0.406], std=[0.229, 0.224, 0.225])\n",
      "Building test transforms ...\n",
      "+ resize to 256x128\n",
      "+ to torch tensor of range [0, 1]\n",
      "+ normalization (mean=[0.485, 0.456, 0.406], std=[0.229, 0.224, 0.225])\n",
      "=> Loading train (source) dataset\n",
      "TRAIN:::  [('', 0, 0)]\n",
      "QUERY:::  [('/notebooks/deep-person-reid/reid-data/sus/suspect.png', 0, 0), ('/notebooks/deep-person-reid/reid-data/sus/hostage.png', 0, 0)]\n",
      "GALLERY:::  [('/notebooks/deep-person-reid/reid-data/test/0.png', 0, 2), ('/notebooks/deep-person-reid/reid-data/test/2.png', 0, 2), ('/notebooks/deep-person-reid/reid-data/test/1.png', 0, 2)]\n",
      "=> Loaded Robo\n",
      "  ----------------------------------------\n",
      "  subset   | # ids | # images | # cameras\n",
      "  ----------------------------------------\n",
      "  train    |     1 |        1 |         1\n",
      "  query    |     1 |        2 |         1\n",
      "  gallery  |     1 |        3 |         1\n",
      "  ----------------------------------------\n",
      "=> Loading test (target) dataset\n",
      "TRAIN:::  [('', 0, 0)]\n",
      "QUERY:::  [('/notebooks/deep-person-reid/reid-data/sus/suspect.png', 0, 0), ('/notebooks/deep-person-reid/reid-data/sus/hostage.png', 0, 0)]\n",
      "GALLERY:::  [('/notebooks/deep-person-reid/reid-data/test/2.png', 0, 2), ('/notebooks/deep-person-reid/reid-data/test/0.png', 0, 2), ('/notebooks/deep-person-reid/reid-data/test/1.png', 0, 2)]\n",
      "=> Loaded Robo\n",
      "  ----------------------------------------\n",
      "  subset   | # ids | # images | # cameras\n",
      "  ----------------------------------------\n",
      "  train    |     1 |        1 |         1\n",
      "  query    |     1 |        2 |         1\n",
      "  gallery  |     1 |        3 |         1\n",
      "  ----------------------------------------\n",
      "TRAIN:::  [('', 0, 0)]\n",
      "QUERY:::  [('/notebooks/deep-person-reid/reid-data/sus/suspect.png', 0, 0), ('/notebooks/deep-person-reid/reid-data/sus/hostage.png', 0, 0)]\n",
      "GALLERY:::  [('/notebooks/deep-person-reid/reid-data/test/2.png', 0, 2), ('/notebooks/deep-person-reid/reid-data/test/1.png', 0, 2), ('/notebooks/deep-person-reid/reid-data/test/0.png', 0, 2)]\n",
      "\n",
      "\n",
      "  **************** Summary ****************\n",
      "  source            : ['robo']\n",
      "  # source datasets : 1\n",
      "  # source ids      : 1\n",
      "  # source images   : 1\n",
      "  # source cameras  : 1\n",
      "  target            : ['robo']\n",
      "  *****************************************\n",
      "\n",
      "\n"
     ]
    }
   ],
   "source": [
    "datamanager = torchreid.data.ImageDataManager(\n",
    "    root='reid-data',\n",
    "    sources='robo',\n",
    "    transforms = \"\",\n",
    "    use_gpu = False\n",
    ")"
   ]
  },
  {
   "cell_type": "markdown",
   "id": "f1241297-60d2-40f9-88cf-eaeceafe044f",
   "metadata": {},
   "source": [
    "# Assemble Model"
   ]
  },
  {
   "cell_type": "markdown",
   "id": "9a14a551-c00a-4808-a50a-2e9b3280c3d1",
   "metadata": {},
   "source": [
    "## model - osnet ibn x1_0"
   ]
  },
  {
   "cell_type": "code",
   "execution_count": 3,
   "id": "592ce806-ab70-463c-a4f7-25992167c2f3",
   "metadata": {},
   "outputs": [],
   "source": [
    "model = torchreid.models.build_model(\n",
    "    name=\"osnet_ibn_x1_0\",\n",
    "    num_classes=datamanager.num_train_pids,\n",
    "    loss=\"triplet\",\n",
    "    pretrained=False # I DISABLED DOWNLOAD WEIGHTS!!!\n",
    ")\n",
    "\n",
    "# model = model.cuda()\n",
    "\n",
    "optimizer = torchreid.optim.build_optimizer(\n",
    "    model,\n",
    "    optim=\"adam\",\n",
    "    lr=0.0003\n",
    ")\n",
    "\n",
    "scheduler = torchreid.optim.build_lr_scheduler(\n",
    "    optimizer,\n",
    "    lr_scheduler=\"single_step\",\n",
    "    stepsize=20\n",
    ")"
   ]
  },
  {
   "cell_type": "markdown",
   "id": "a71cad71-08ed-402c-96df-c90a147ec8b5",
   "metadata": {},
   "source": [
    "# Assemble engine, load weights"
   ]
  },
  {
   "cell_type": "code",
   "execution_count": 4,
   "id": "d7d273fd-efaa-4369-bbee-9dddc72224a5",
   "metadata": {},
   "outputs": [],
   "source": [
    "engine = torchreid.engine.ImageTripletEngine(\n",
    "    datamanager,\n",
    "    model,\n",
    "    optimizer=optimizer,\n",
    "    scheduler=scheduler,\n",
    "    label_smooth=True,\n",
    "    use_gpu=False\n",
    ")"
   ]
  },
  {
   "cell_type": "code",
   "execution_count": 5,
   "id": "2c658bd2-29ab-4e6f-bdd5-5c004699cd4a",
   "metadata": {},
   "outputs": [
    {
     "name": "stdout",
     "output_type": "stream",
     "text": [
      "Successfully loaded pretrained weights from \"/notebooks/deep-person-reid/log/til_osnet_ibn_x1_0_with_pretrained/model/model.pth.tar-10-95.7-460\"\n",
      "** The following layers are discarded due to unmatched keys or layer size: ['classifier.weight', 'classifier.bias']\n"
     ]
    }
   ],
   "source": [
    "from torchreid.utils import load_pretrained_weights\n",
    "weight_path = '/notebooks/deep-person-reid/log/til_osnet_ibn_x1_0_with_pretrained/model/model.pth.tar-10-95.7-460'\n",
    "load_pretrained_weights(model, weight_path)"
   ]
  },
  {
   "cell_type": "code",
   "execution_count": 32,
   "id": "fcd5bd75-2672-4c9f-896a-94e1cf442db5",
   "metadata": {
    "tags": []
   },
   "outputs": [],
   "source": [
    "# _,distmat, queries_and_galley = engine.run(\n",
    "#     save_dir=\"log/til_resnet50\",\n",
    "#     max_epoch=4,\n",
    "#     eval_freq=1,\n",
    "#     print_freq=50,\n",
    "#     test_only=True\n",
    "# )"
   ]
  },
  {
   "cell_type": "markdown",
   "id": "1a425860-385e-4423-b01c-607d85c19c9f",
   "metadata": {},
   "source": [
    "# Robotics challenge function"
   ]
  },
  {
   "cell_type": "markdown",
   "id": "b9e052ce-acdd-425a-946a-e1b4afcb6c72",
   "metadata": {},
   "source": [
    "def targets_from_image(self, scene_img, target_img) -> BoundingBox:\n",
    "        '''Process image with re-id pipeline and return the detected objects and their classes.\n",
    "        \n",
    "        Parameters\n",
    "        ----------\n",
    "        img : Any\n",
    "            Input image.\n",
    "        \n",
    "        Returns\n",
    "        -------\n",
    "        results  : List[DetectedObject]\n",
    "            List of DetectedObjects.\n",
    "        '''\n",
    "        \n",
    "        # dummy data\n",
    "        bbox = BoundingBox(100,100,300,50)\n",
    "        obj = DetectedObject(\"1\", \"1\", bbox)\n",
    "        # DetectedObject: ['id', 'cls', 'bbox'] \n",
    "        # e.g. cls=0 means match class 0, cls=1 means match class 1, cls=2 means match class2.\n",
    "        pass\n",
    "        "
   ]
  },
  {
   "cell_type": "code",
   "execution_count": 10,
   "id": "8cd9e8dc-1686-4b44-8a79-fac982fe2084",
   "metadata": {},
   "outputs": [],
   "source": [
    "def crop_image(image_path, results_csv, candidate_save_to):\n",
    "    df = pd.read_csv(results_csv)\n",
    "    \n",
    "    # Open the image using Pillow\n",
    "    image = Image.open(image_path)\n",
    "    w = image.width\n",
    "    h = image.height\n",
    "    \n",
    "    # Ready to save, check directoreis\n",
    "    if os.path.exists(candidate_save_to):\n",
    "        shutil.rmtree(candidate_save_to)\n",
    "    os.mkdir(candidate_save_to)\n",
    "    \n",
    "    # crop candidates\n",
    "    for row in df.index:\n",
    "        \n",
    "        # obtain coordinates for one target\n",
    "        ymin = df['ymin'][row]\n",
    "        xmin = df['xmin'][row]\n",
    "        ymax = df['ymax'][row]\n",
    "        xmax = df['xmax'][row]\n",
    "    \n",
    "    \n",
    "        # Compute x, y, width, height from params\n",
    "        xmin = w * float(xmin)\n",
    "        ymin = h * float(ymin) \n",
    "        xmax = w * float(xmax)\n",
    "        ymax = h * float(ymax)\n",
    "\n",
    "        # Crop the image using the provided coordinates\n",
    "        cropped_image = image.crop((xmin, ymin, xmax, ymax))\n",
    "\n",
    "        # Save the cropped image\n",
    "        cropped_image.save(candidate_save_to + f\"/{row}.png\")\n",
    "        "
   ]
  },
  {
   "cell_type": "code",
   "execution_count": 21,
   "id": "abdb3abd-8c8d-4279-9942-4c8d189ed323",
   "metadata": {},
   "outputs": [
    {
     "data": {
      "text/html": [
       "<div>\n",
       "<style scoped>\n",
       "    .dataframe tbody tr th:only-of-type {\n",
       "        vertical-align: middle;\n",
       "    }\n",
       "\n",
       "    .dataframe tbody tr th {\n",
       "        vertical-align: top;\n",
       "    }\n",
       "\n",
       "    .dataframe thead th {\n",
       "        text-align: right;\n",
       "    }\n",
       "</style>\n",
       "<table border=\"1\" class=\"dataframe\">\n",
       "  <thead>\n",
       "    <tr style=\"text-align: right;\">\n",
       "      <th></th>\n",
       "      <th>Image_ID</th>\n",
       "      <th>class</th>\n",
       "      <th>confidence</th>\n",
       "      <th>ymin</th>\n",
       "      <th>xmin</th>\n",
       "      <th>ymax</th>\n",
       "      <th>xmax</th>\n",
       "    </tr>\n",
       "  </thead>\n",
       "  <tbody>\n",
       "    <tr>\n",
       "      <th>0</th>\n",
       "      <td>image_0001</td>\n",
       "      <td>0</td>\n",
       "      <td>0.96</td>\n",
       "      <td>0.595313</td>\n",
       "      <td>0.389062</td>\n",
       "      <td>0.948438</td>\n",
       "      <td>0.531250</td>\n",
       "    </tr>\n",
       "    <tr>\n",
       "      <th>1</th>\n",
       "      <td>image_0001</td>\n",
       "      <td>0</td>\n",
       "      <td>0.94</td>\n",
       "      <td>0.728125</td>\n",
       "      <td>0.151562</td>\n",
       "      <td>0.884375</td>\n",
       "      <td>0.270313</td>\n",
       "    </tr>\n",
       "    <tr>\n",
       "      <th>2</th>\n",
       "      <td>image_0001</td>\n",
       "      <td>0</td>\n",
       "      <td>0.92</td>\n",
       "      <td>0.737500</td>\n",
       "      <td>0.692187</td>\n",
       "      <td>0.881250</td>\n",
       "      <td>0.818750</td>\n",
       "    </tr>\n",
       "  </tbody>\n",
       "</table>\n",
       "</div>"
      ],
      "text/plain": [
       "     Image_ID  class  confidence      ymin      xmin      ymax      xmax\n",
       "0  image_0001      0        0.96  0.595313  0.389062  0.948438  0.531250\n",
       "1  image_0001      0        0.94  0.728125  0.151562  0.884375  0.270313\n",
       "2  image_0001      0        0.92  0.737500  0.692187  0.881250  0.818750"
      ]
     },
     "execution_count": 21,
     "metadata": {},
     "output_type": "execute_result"
    }
   ],
   "source": [
    "import pandas as pd\n",
    "df = pd.read_csv(\"/notebooks/deep-person-reid/reid-data/testcsv.csv\")\n",
    "df.head(5)"
   ]
  },
  {
   "cell_type": "code",
   "execution_count": 41,
   "id": "88ef1b4f-dd22-4806-82c7-edb47de3e1ed",
   "metadata": {},
   "outputs": [],
   "source": [
    "def output_matches(d, q, index):\n",
    "    distmat = d[index]\n",
    "    query = q[0][index][0]\n",
    "    gallery = q[1]\n",
    "    \n",
    "    temp = zip(distmat, gallery)\n",
    "    # print(query)\n",
    "    # im=Image.open(query)\n",
    "    # im.show()\n",
    "    \n",
    "    output = {}\n",
    "    for i in sorted(temp):\n",
    "        print(query)\n",
    "        if \"suspect\" in query:\n",
    "            if i[0] < 455 and output == {}:\n",
    "                print(\"suspect\")\n",
    "                output[int(i[1][0][-5])] = \"suspect\"\n",
    "            else:\n",
    "                output[int(i[1][0][-5])] = 0\n",
    "        elif \"hostage\" in query:\n",
    "            if i[0] < 455 and output == {}:\n",
    "                print(\"hostage\")\n",
    "                output[int(i[1][0][-5])] = \"hostage\"\n",
    "            else:\n",
    "                output[int(i[1][0][-5])] = 0\n",
    "                \n",
    "    return output"
   ]
  },
  {
   "cell_type": "code",
   "execution_count": 55,
   "id": "a4eab1c8-b4a1-4491-9228-f8d1824affe2",
   "metadata": {},
   "outputs": [],
   "source": [
    "def reid(scene_img, results_csv, candidate_save_to, engine): \n",
    "    df = pd.read_csv(results_csv)\n",
    "    \n",
    "    # process/crop images in the scene\n",
    "    crop_image(image_path, results_csv, candidate_save_to)\n",
    "    \n",
    "    # target image should be stored in target path alrd\n",
    "    \n",
    "    # call test function, obtain matrix\n",
    "    _,distmat, queries_and_galley = engine.run(\n",
    "        save_dir=\"\",\n",
    "        max_epoch=4,\n",
    "        eval_freq=1,\n",
    "        print_freq=50,\n",
    "        test_only=True\n",
    "    )\n",
    "    \n",
    "    for i in range(2):\n",
    "        output = output_matches(distmat, queries_and_galley, i)\n",
    "        print(output)\n",
    "        for j in output.keys():\n",
    "            if df.iloc[j]['class'] == 0:\n",
    "                df.at[j,\"class\"] = output[j]\n",
    "    return df\n",
    "    "
   ]
  },
  {
   "cell_type": "code",
   "execution_count": 56,
   "id": "a5f35026-8091-4f90-8912-004cf368ebca",
   "metadata": {},
   "outputs": [
    {
     "name": "stdout",
     "output_type": "stream",
     "text": [
      "##### Evaluating robo (source) #####\n",
      "Extracting features from query set ...\n",
      "HELLO HERE ARE UR PIDS AND CAMIDS: \n",
      "[0 0] [0 0]\n",
      "Done, obtained 2-by-512 matrix\n",
      "Extracting features from gallery set ...\n",
      "HELLO HERE ARE UR PIDS AND CAMIDS: \n",
      "[0 0 0] [2 2 2]\n",
      "Done, obtained 3-by-512 matrix\n",
      "Speed: 1.7427 sec/batch\n",
      "Computing distance matrix with metric=euclidean ...\n",
      "YOUR DISTMAT!!!:  (2, 3)\n",
      "[ 4.4276297e+02 -1.2207031e-04  5.0981458e+02]\n",
      "[785.43    740.6364  621.69855]\n",
      "Computing CMC and mAP ...\n",
      "Note: number of gallery samples is quite small, got 3\n",
      "/notebooks/deep-person-reid/reid-data/sus/suspect.png\n",
      "suspect\n",
      "/notebooks/deep-person-reid/reid-data/sus/suspect.png\n",
      "/notebooks/deep-person-reid/reid-data/sus/suspect.png\n",
      "{1: 'suspect', 2: 0, 0: 0}\n",
      "/notebooks/deep-person-reid/reid-data/sus/hostage.png\n",
      "/notebooks/deep-person-reid/reid-data/sus/hostage.png\n",
      "/notebooks/deep-person-reid/reid-data/sus/hostage.png\n",
      "{0: 0, 1: 0, 2: 0}\n"
     ]
    }
   ],
   "source": [
    "image_path = \"/notebooks/deep-person-reid/reid-data/image_0001.png\"\n",
    "results_csv = \"/notebooks/deep-person-reid/reid-data/testcsv.csv\"\n",
    "save_to = \"/notebooks/deep-person-reid/reid-data/test\"\n",
    "\n",
    "\n",
    "df = reid(image_path, results_csv, save_to, engine)"
   ]
  },
  {
   "cell_type": "code",
   "execution_count": 57,
   "id": "796a3268-2ea0-4845-84b7-1b3ca3aa19a5",
   "metadata": {},
   "outputs": [
    {
     "data": {
      "text/html": [
       "<div>\n",
       "<style scoped>\n",
       "    .dataframe tbody tr th:only-of-type {\n",
       "        vertical-align: middle;\n",
       "    }\n",
       "\n",
       "    .dataframe tbody tr th {\n",
       "        vertical-align: top;\n",
       "    }\n",
       "\n",
       "    .dataframe thead th {\n",
       "        text-align: right;\n",
       "    }\n",
       "</style>\n",
       "<table border=\"1\" class=\"dataframe\">\n",
       "  <thead>\n",
       "    <tr style=\"text-align: right;\">\n",
       "      <th></th>\n",
       "      <th>Image_ID</th>\n",
       "      <th>class</th>\n",
       "      <th>confidence</th>\n",
       "      <th>ymin</th>\n",
       "      <th>xmin</th>\n",
       "      <th>ymax</th>\n",
       "      <th>xmax</th>\n",
       "    </tr>\n",
       "  </thead>\n",
       "  <tbody>\n",
       "    <tr>\n",
       "      <th>0</th>\n",
       "      <td>image_0001</td>\n",
       "      <td>0</td>\n",
       "      <td>0.96</td>\n",
       "      <td>0.595313</td>\n",
       "      <td>0.389062</td>\n",
       "      <td>0.948438</td>\n",
       "      <td>0.531250</td>\n",
       "    </tr>\n",
       "    <tr>\n",
       "      <th>1</th>\n",
       "      <td>image_0001</td>\n",
       "      <td>suspect</td>\n",
       "      <td>0.94</td>\n",
       "      <td>0.728125</td>\n",
       "      <td>0.151562</td>\n",
       "      <td>0.884375</td>\n",
       "      <td>0.270313</td>\n",
       "    </tr>\n",
       "    <tr>\n",
       "      <th>2</th>\n",
       "      <td>image_0001</td>\n",
       "      <td>0</td>\n",
       "      <td>0.92</td>\n",
       "      <td>0.737500</td>\n",
       "      <td>0.692187</td>\n",
       "      <td>0.881250</td>\n",
       "      <td>0.818750</td>\n",
       "    </tr>\n",
       "  </tbody>\n",
       "</table>\n",
       "</div>"
      ],
      "text/plain": [
       "     Image_ID    class  confidence      ymin      xmin      ymax      xmax\n",
       "0  image_0001        0        0.96  0.595313  0.389062  0.948438  0.531250\n",
       "1  image_0001  suspect        0.94  0.728125  0.151562  0.884375  0.270313\n",
       "2  image_0001        0        0.92  0.737500  0.692187  0.881250  0.818750"
      ]
     },
     "execution_count": 57,
     "metadata": {},
     "output_type": "execute_result"
    }
   ],
   "source": [
    "df"
   ]
  },
  {
   "cell_type": "code",
   "execution_count": null,
   "id": "d0a57c78-45ba-4291-942c-4173e138b127",
   "metadata": {},
   "outputs": [],
   "source": []
  }
 ],
 "metadata": {
  "kernelspec": {
   "display_name": "Python 3 (ipykernel)",
   "language": "python",
   "name": "python3"
  },
  "language_info": {
   "codemirror_mode": {
    "name": "ipython",
    "version": 3
   },
   "file_extension": ".py",
   "mimetype": "text/x-python",
   "name": "python",
   "nbconvert_exporter": "python",
   "pygments_lexer": "ipython3",
   "version": "3.9.16"
  }
 },
 "nbformat": 4,
 "nbformat_minor": 5
}
